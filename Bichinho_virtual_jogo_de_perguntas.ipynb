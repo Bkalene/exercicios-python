{
  "nbformat": 4,
  "nbformat_minor": 0,
  "metadata": {
    "colab": {
      "provenance": [],
      "authorship_tag": "ABX9TyOOgmzenXYTgyVenaEmMGC9",
      "include_colab_link": true
    },
    "kernelspec": {
      "name": "python3",
      "display_name": "Python 3"
    },
    "language_info": {
      "name": "python"
    }
  },
  "cells": [
    {
      "cell_type": "markdown",
      "metadata": {
        "id": "view-in-github",
        "colab_type": "text"
      },
      "source": [
        "<a href=\"https://colab.research.google.com/github/Bkalene/exercicios-python/blob/main/Bichinho_virtual_jogo_de_perguntas.ipynb\" target=\"_parent\"><img src=\"https://colab.research.google.com/assets/colab-badge.svg\" alt=\"Open In Colab\"/></a>"
      ]
    },
    {
      "cell_type": "markdown",
      "source": [
        "Crie uma classe que modele um bichinho eletrônicp:\n",
        "atributos: Nome, fome, saúde e idade\n",
        "Métodos: Alterar nome, fome, saúde e idade;\n",
        "Retornar Nome, fome, saúde e idade\n",
        "\n",
        "obs: Existe mais uma informação que devemos levar em consideração, o humor do nosso bichinho eletrônico, este humor é uma combinação entre os atributos fome e saúde, ou seja, um campo calculado, então não devemos criar um atributo para armazenar esta informação por que ela pode ser calculada a qualquer momento."
      ],
      "metadata": {
        "id": "a9BuvAJv9TLN"
      }
    },
    {
      "cell_type": "code",
      "execution_count": null,
      "metadata": {
        "colab": {
          "base_uri": "https://localhost:8080/"
        },
        "id": "5pwfs6uG6hSE",
        "outputId": "e3c5af9d-2a34-4d79-a7ea-67a9867da49b"
      },
      "outputs": [
        {
          "output_type": "stream",
          "name": "stdout",
          "text": [
            "Nome do bichinho eletrônico: Nerd\n",
            "Nível de fome (0 a 10): 3\n",
            "Nível de saúde (0 a 10): 3\n",
            "Idade: 33\n",
            "Nerd está extremamente irritado! Humor: 3.0\n"
          ]
        }
      ],
      "source": [
        "class BichinhoEletronico:\n",
        "    def __init__(self, nome, fome, saude, idade):\n",
        "        self.nome = nome\n",
        "        self.fome = fome\n",
        "        self.saude = saude\n",
        "        self.idade = idade\n",
        "\n",
        "    def alterar_nome(self, novo_nome):\n",
        "        self.nome = novo_nome\n",
        "\n",
        "    def alterar_fome(self, nova_fome):\n",
        "        self.fome = nova_fome\n",
        "\n",
        "    def alterar_saude(self, nova_saude):\n",
        "        self.saude = nova_saude\n",
        "\n",
        "    def alterar_idade(self, nova_idade):\n",
        "        self.idade = nova_idade\n",
        "\n",
        "    def retornar_nome(self):\n",
        "        return self.nome\n",
        "\n",
        "    def retornar_fome(self):\n",
        "        return self.fome\n",
        "\n",
        "    def retornar_saude(self):\n",
        "        return self.saude\n",
        "\n",
        "    def retornar_idade(self):\n",
        "        return self.idade\n",
        "\n",
        "    @property\n",
        "    def humor(self):\n",
        "        \"\"\"\n",
        "        Calcula o humor do bichinho eletrônico com base na fome e saúde.\n",
        "\n",
        "        :return: Humor do bichinho eletrônico (0: muito ruim, 10: muito bom)\n",
        "        \"\"\"\n",
        "        return (self.fome + self.saude) / 2\n",
        "\n",
        "\n",
        "nome = input(\"Nome do bichinho eletrônico: \")\n",
        "fome = int(input(\"Nível de fome (0 a 10): \"))\n",
        "saude = int(input(\"Nível de saúde (0 a 10): \"))\n",
        "idade = int(input(\"Idade: \"))\n",
        "\n",
        "\n",
        "bichinho = BichinhoEletronico(nome, fome, saude, idade)\n",
        "\n",
        "humor = bichinho.humor\n",
        "\n",
        "if humor <= 4:\n",
        "    print(f\"{bichinho.nome} está extremamente irritado! Humor: {humor}\")\n",
        "elif humor <= 7:\n",
        "    print(f\"{bichinho.nome} está com o humor estabilizado. Humor: {humor}\")\n",
        "else:\n",
        "    print(f\"{bichinho.nome} está feliz! Humor: {humor}\")"
      ]
    },
    {
      "cell_type": "markdown",
      "source": [
        "Busca binária\n",
        "Proponha uma estratégia para o jogo das perguntas\n",
        "Nesse jogo, um jogador pensa em um número no intervalo de 1 a n.\n",
        "O outro jogador tenta adivinhar o número fazendo perguntas do tipo: \" o número é menor/maior que X?\"\n",
        "O objetivo do jogo é descobrir o número fazendo o menór numero possível de perguntas.\n",
        "Assuma que ninguém trapaceia, isto é, a pessoa que responde cada pergunta fala sempre a verdade."
      ],
      "metadata": {
        "id": "wBUToSE0-0LB"
      }
    },
    {
      "cell_type": "code",
      "source": [
        "def busca_binaria(inicio, fim):\n",
        "    \"\"\"\n",
        "    Implementa a estratégia de busca binária para adivinhar um número pensado por um jogador.\n",
        "\n",
        "    :param inicio: Início do intervalo de busca.\n",
        "    :param fim: Fim do intervalo de busca.\n",
        "    :return: Número pensado pelo jogador.\n",
        "    \"\"\"\n",
        "\n",
        "    while inicio <= fim:\n",
        "        # Calcula o ponto médio do intervalo atual.\n",
        "        meio = (inicio + fim) // 2\n",
        "\n",
        "        # Pergunta ao jogador se o número é menor que o ponto médio.\n",
        "        resposta = input(f\"O número é menor que {meio}? (s/n) \")\n",
        "\n",
        "        # Ajusta o intervalo de busca com base na resposta do jogador.\n",
        "        if resposta == \"s\":\n",
        "            fim = meio - 1\n",
        "        elif resposta == \"n\":\n",
        "            inicio = meio + 1\n",
        "\n",
        "    # Retorna o número adivinhado.\n",
        "    return inicio\n",
        "\n",
        "\n",
        "# Obtém o intervalo de busca do usuário.\n",
        "n = int(input(\"Digite o limite superior do intervalo de busca: \"))\n",
        "\n",
        "# Inicia a busca binária.\n",
        "numero_adivinhado = busca_binaria(1, n)\n",
        "\n",
        "# Imprime o número adivinhado.\n",
        "print(f\"O número adivinhado é: {numero_adivinhado}\")"
      ],
      "metadata": {
        "colab": {
          "base_uri": "https://localhost:8080/"
        },
        "id": "863497LT-SLU",
        "outputId": "378ed5eb-82aa-4b99-ddc8-cd6a9c00293d"
      },
      "execution_count": null,
      "outputs": [
        {
          "output_type": "stream",
          "name": "stdout",
          "text": [
            "Digite o limite superior do intervalo de busca: 100\n",
            "O número é menor que 50? (s/n) n\n",
            "O número é menor que 75? (s/n) s\n",
            "O número é menor que 62? (s/n) n\n",
            "O número é menor que 68? (s/n) n\n",
            "O número é menor que 71? (s/n) s\n",
            "O número é menor que 69? (s/n) n\n",
            "O número é menor que 70? (s/n) n\n",
            "O número adivinhado é: 71\n"
          ]
        }
      ]
    }
  ]
}