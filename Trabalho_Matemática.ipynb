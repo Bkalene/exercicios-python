{
  "cells": [
    {
      "cell_type": "markdown",
      "metadata": {
        "id": "view-in-github",
        "colab_type": "text"
      },
      "source": [
        "<a href=\"https://colab.research.google.com/github/Bkalene/exercicios-python/blob/main/Trabalho_Matem%C3%A1tica.ipynb\" target=\"_parent\"><img src=\"https://colab.research.google.com/assets/colab-badge.svg\" alt=\"Open In Colab\"/></a>"
      ]
    },
    {
      "cell_type": "markdown",
      "metadata": {
        "id": "VIRqwkoOrcqc"
      },
      "source": [
        "# **Calcular Matriz Inversa - Grupo: Andreza, Brisa e Tales**"
      ]
    },
    {
      "cell_type": "markdown",
      "metadata": {
        "id": "_VHmIAlnsAcq"
      },
      "source": [
        "## **Sem as bibliotecas do Python**\n"
      ]
    },
    {
      "cell_type": "code",
      "execution_count": null,
      "metadata": {
        "id": "1vynTc3zW8cQ"
      },
      "outputs": [],
      "source": [
        "# Função para calcular o cofator\n",
        "def Calc_Cofator(matriz, cofatores, l, c, n): #Calcula o cofator da matriz, localizada na linha \"l\"\n",
        "    i = 0                                     # coluna \"c\", e salvando o resultado em 'resultado'.\n",
        "    j = 0                                     # 'n' é a ordem da matriz, que dá o número de iterações nos FOR\n",
        "    for row in range(n):   #FOR da linha\n",
        "        for col in range(n):  #FOR da coluna\n",
        "            if (row != l and col != c):\n",
        "                cofatores[i][j] = matriz[row][col]  #Resultado em relação ao calculo do cofator\n",
        "                j += 1\n",
        "                if j == n - 1:\n",
        "                    j = 0\n",
        "                    i += 1\n",
        "\n",
        "# Função para calcular o determinante\n",
        "def Calc_Determinante(matriz, n):  #Calculo do determinante.\n",
        "    D = 0\n",
        "    if n == 1:\n",
        "        return matriz[0][0]\n",
        "    cofatores = [[0]*n for _ in range(n)] #inicia os calculos dos determinantes\n",
        "    sinal = 1    #variável sinal alterna os seiais nos calculos dos determinantes\n",
        "    for f in range(n):\n",
        "        Calc_Cofator(matriz, cofatores, 0, f, n)\n",
        "        D += sinal * matriz[0][f] * Calc_Determinante(cofatores, n - 1)\n",
        "        sinal = -sinal\n",
        "    return D\n",
        "\n",
        "# Função para calcular e armazenar os cofatores\n",
        "def Calc_Transposta(matriz, transposta, N):\n",
        "    if N == 1:\n",
        "        transposta[0][0] = 1\n",
        "        return\n",
        "    sinal = 1\n",
        "    cofatores = [[0]*N for _ in range(N)]\n",
        "    for i in range(N):\n",
        "        for j in range(N):\n",
        "            Calc_Cofator(matriz, cofatores, i, j, N)\n",
        "            sinal = 1 if ((i+j)%2==0) else -1  #regra do sinal:  Se a soma de i e j for par, o sinal é positivo (1), caso contrário, é negativo (-1) - (-1).i+j\n",
        "            transposta[j][i] = sinal*Calc_Determinante(cofatores, N-1)\n",
        "\n",
        "# Função para calcular a inversa\n",
        "def Calc_Inversa(matriz, N):\n",
        "    if len(matriz) != len(matriz[0]):\n",
        "        raise ValueError(\"A matriz deve ser quadrada para calcular a inversa.\") #verifica se é uma matriz quadrada\n",
        "    det = Calc_Determinante(matriz, N)\n",
        "    if det == 0:\n",
        "        raise ValueError(\"A matriz é singular (Det = 0), portanto, não tem inversa.\")\n",
        "    transposta = [[0]*N for _ in range(N)] #cria uma matriz transposta formada por 0, na mesma ordem da matriz original\n",
        "    Calc_Transposta(matriz, transposta, N)\n",
        "    for i in range(N):\n",
        "        for j in range(N):\n",
        "            matriz[i][j] = transposta[i][j]/float(det)\n",
        "    print(\"Matriz inversa:\")\n",
        "    for row in matriz:\n",
        "        print(row)\n",
        "    print()"
      ]
    },
    {
      "cell_type": "markdown",
      "source": [
        "###**Exemplos**"
      ],
      "metadata": {
        "id": "615C4LoOpsNJ"
      }
    },
    {
      "cell_type": "code",
      "source": [
        "# Matriz de entrada\n",
        "mat = [[1, 0, 0], [1, 0, 1], [0, 1, 1]]\n",
        "N = len(mat)\n",
        "\n",
        "# Calculando a inversa\n",
        "Calc_Inversa(mat, N)"
      ],
      "metadata": {
        "colab": {
          "base_uri": "https://localhost:8080/"
        },
        "id": "_irAT6pyppsN",
        "outputId": "6ed37779-b85c-40d9-b022-2259a6c1db19"
      },
      "execution_count": null,
      "outputs": [
        {
          "output_type": "stream",
          "name": "stdout",
          "text": [
            "Matriz inversa:\n",
            "[1.0, -0.0, -0.0]\n",
            "[1.0, -1.0, 1.0]\n",
            "[-1.0, 1.0, -0.0]\n",
            "\n"
          ]
        }
      ]
    },
    {
      "cell_type": "code",
      "source": [
        "# Matriz de entrada\n",
        "mat = [[1,0,0], [1,0,1], [1,0,2]]\n",
        "N = len(mat)\n",
        "\n",
        "# Calculando a inversa\n",
        "Calc_Inversa(mat, N)"
      ],
      "metadata": {
        "id": "vB1YI4tzrEmI",
        "colab": {
          "base_uri": "https://localhost:8080/",
          "height": 331
        },
        "outputId": "650ff557-bee9-4616-da51-14d650334090"
      },
      "execution_count": null,
      "outputs": [
        {
          "output_type": "error",
          "ename": "ValueError",
          "evalue": "ignored",
          "traceback": [
            "\u001b[0;31m---------------------------------------------------------------------------\u001b[0m",
            "\u001b[0;31mValueError\u001b[0m                                Traceback (most recent call last)",
            "\u001b[0;32m<ipython-input-30-447192cefe29>\u001b[0m in \u001b[0;36m<cell line: 6>\u001b[0;34m()\u001b[0m\n\u001b[1;32m      4\u001b[0m \u001b[0;34m\u001b[0m\u001b[0m\n\u001b[1;32m      5\u001b[0m \u001b[0;31m# Calculando a inversa\u001b[0m\u001b[0;34m\u001b[0m\u001b[0;34m\u001b[0m\u001b[0m\n\u001b[0;32m----> 6\u001b[0;31m \u001b[0mCalc_Inversa\u001b[0m\u001b[0;34m(\u001b[0m\u001b[0mmat\u001b[0m\u001b[0;34m,\u001b[0m \u001b[0mN\u001b[0m\u001b[0;34m)\u001b[0m\u001b[0;34m\u001b[0m\u001b[0;34m\u001b[0m\u001b[0m\n\u001b[0m",
            "\u001b[0;32m<ipython-input-25-0544f64f54a9>\u001b[0m in \u001b[0;36mCalc_Inversa\u001b[0;34m(matriz, N)\u001b[0m\n\u001b[1;32m     44\u001b[0m     \u001b[0mdet\u001b[0m \u001b[0;34m=\u001b[0m \u001b[0mCalc_Determinante\u001b[0m\u001b[0;34m(\u001b[0m\u001b[0mmatriz\u001b[0m\u001b[0;34m,\u001b[0m \u001b[0mN\u001b[0m\u001b[0;34m)\u001b[0m\u001b[0;34m\u001b[0m\u001b[0;34m\u001b[0m\u001b[0m\n\u001b[1;32m     45\u001b[0m     \u001b[0;32mif\u001b[0m \u001b[0mdet\u001b[0m \u001b[0;34m==\u001b[0m \u001b[0;36m0\u001b[0m\u001b[0;34m:\u001b[0m\u001b[0;34m\u001b[0m\u001b[0;34m\u001b[0m\u001b[0m\n\u001b[0;32m---> 46\u001b[0;31m         \u001b[0;32mraise\u001b[0m \u001b[0mValueError\u001b[0m\u001b[0;34m(\u001b[0m\u001b[0;34m\"A matriz é singular (Det = 0), portanto, não tem inversa.\"\u001b[0m\u001b[0;34m)\u001b[0m\u001b[0;34m\u001b[0m\u001b[0;34m\u001b[0m\u001b[0m\n\u001b[0m\u001b[1;32m     47\u001b[0m     \u001b[0mtransposta\u001b[0m \u001b[0;34m=\u001b[0m \u001b[0;34m[\u001b[0m\u001b[0;34m[\u001b[0m\u001b[0;36m0\u001b[0m\u001b[0;34m]\u001b[0m\u001b[0;34m*\u001b[0m\u001b[0mN\u001b[0m \u001b[0;32mfor\u001b[0m \u001b[0m_\u001b[0m \u001b[0;32min\u001b[0m \u001b[0mrange\u001b[0m\u001b[0;34m(\u001b[0m\u001b[0mN\u001b[0m\u001b[0;34m)\u001b[0m\u001b[0;34m]\u001b[0m \u001b[0;31m#cria uma matriz transposta formada por 0, na mesma ordem da matriz original\u001b[0m\u001b[0;34m\u001b[0m\u001b[0;34m\u001b[0m\u001b[0m\n\u001b[1;32m     48\u001b[0m     \u001b[0mCalc_Transposta\u001b[0m\u001b[0;34m(\u001b[0m\u001b[0mmatriz\u001b[0m\u001b[0;34m,\u001b[0m \u001b[0mtransposta\u001b[0m\u001b[0;34m,\u001b[0m \u001b[0mN\u001b[0m\u001b[0;34m)\u001b[0m\u001b[0;34m\u001b[0m\u001b[0;34m\u001b[0m\u001b[0m\n",
            "\u001b[0;31mValueError\u001b[0m: A matriz é singular (Det = 0), portanto, não tem inversa."
          ]
        }
      ]
    },
    {
      "cell_type": "code",
      "source": [
        "# Matriz de entrada\n",
        "mat = [[1,0], [1,0], [1,0]]\n",
        "N = len(mat)\n",
        "\n",
        "# Calculando a inversa\n",
        "Calc_Inversa(mat, N)"
      ],
      "metadata": {
        "id": "bLyRJgrqrdcr",
        "colab": {
          "base_uri": "https://localhost:8080/",
          "height": 331
        },
        "outputId": "651d9e11-a0a8-4c99-9575-bfa2eb97f3f4"
      },
      "execution_count": null,
      "outputs": [
        {
          "output_type": "error",
          "ename": "ValueError",
          "evalue": "ignored",
          "traceback": [
            "\u001b[0;31m---------------------------------------------------------------------------\u001b[0m",
            "\u001b[0;31mValueError\u001b[0m                                Traceback (most recent call last)",
            "\u001b[0;32m<ipython-input-31-545e02c608c6>\u001b[0m in \u001b[0;36m<cell line: 6>\u001b[0;34m()\u001b[0m\n\u001b[1;32m      4\u001b[0m \u001b[0;34m\u001b[0m\u001b[0m\n\u001b[1;32m      5\u001b[0m \u001b[0;31m# Calculando a inversa\u001b[0m\u001b[0;34m\u001b[0m\u001b[0;34m\u001b[0m\u001b[0m\n\u001b[0;32m----> 6\u001b[0;31m \u001b[0mCalc_Inversa\u001b[0m\u001b[0;34m(\u001b[0m\u001b[0mmat\u001b[0m\u001b[0;34m,\u001b[0m \u001b[0mN\u001b[0m\u001b[0;34m)\u001b[0m\u001b[0;34m\u001b[0m\u001b[0;34m\u001b[0m\u001b[0m\n\u001b[0m",
            "\u001b[0;32m<ipython-input-25-0544f64f54a9>\u001b[0m in \u001b[0;36mCalc_Inversa\u001b[0;34m(matriz, N)\u001b[0m\n\u001b[1;32m     41\u001b[0m \u001b[0;32mdef\u001b[0m \u001b[0mCalc_Inversa\u001b[0m\u001b[0;34m(\u001b[0m\u001b[0mmatriz\u001b[0m\u001b[0;34m,\u001b[0m \u001b[0mN\u001b[0m\u001b[0;34m)\u001b[0m\u001b[0;34m:\u001b[0m\u001b[0;34m\u001b[0m\u001b[0;34m\u001b[0m\u001b[0m\n\u001b[1;32m     42\u001b[0m     \u001b[0;32mif\u001b[0m \u001b[0mlen\u001b[0m\u001b[0;34m(\u001b[0m\u001b[0mmatriz\u001b[0m\u001b[0;34m)\u001b[0m \u001b[0;34m!=\u001b[0m \u001b[0mlen\u001b[0m\u001b[0;34m(\u001b[0m\u001b[0mmatriz\u001b[0m\u001b[0;34m[\u001b[0m\u001b[0;36m0\u001b[0m\u001b[0;34m]\u001b[0m\u001b[0;34m)\u001b[0m\u001b[0;34m:\u001b[0m\u001b[0;34m\u001b[0m\u001b[0;34m\u001b[0m\u001b[0m\n\u001b[0;32m---> 43\u001b[0;31m         \u001b[0;32mraise\u001b[0m \u001b[0mValueError\u001b[0m\u001b[0;34m(\u001b[0m\u001b[0;34m\"A matriz deve ser quadrada para calcular a inversa.\"\u001b[0m\u001b[0;34m)\u001b[0m \u001b[0;31m#verifica se é uma matriz quadrada\u001b[0m\u001b[0;34m\u001b[0m\u001b[0;34m\u001b[0m\u001b[0m\n\u001b[0m\u001b[1;32m     44\u001b[0m     \u001b[0mdet\u001b[0m \u001b[0;34m=\u001b[0m \u001b[0mCalc_Determinante\u001b[0m\u001b[0;34m(\u001b[0m\u001b[0mmatriz\u001b[0m\u001b[0;34m,\u001b[0m \u001b[0mN\u001b[0m\u001b[0;34m)\u001b[0m\u001b[0;34m\u001b[0m\u001b[0;34m\u001b[0m\u001b[0m\n\u001b[1;32m     45\u001b[0m     \u001b[0;32mif\u001b[0m \u001b[0mdet\u001b[0m \u001b[0;34m==\u001b[0m \u001b[0;36m0\u001b[0m\u001b[0;34m:\u001b[0m\u001b[0;34m\u001b[0m\u001b[0;34m\u001b[0m\u001b[0m\n",
            "\u001b[0;31mValueError\u001b[0m: A matriz deve ser quadrada para calcular a inversa."
          ]
        }
      ]
    },
    {
      "cell_type": "markdown",
      "metadata": {
        "id": "FPPNMwg-tmsX"
      },
      "source": [
        "**Função Calc_Cofator:** Esta função calcula o cofator de um elemento específico em uma matriz. O cofator é o determinante da submatriz que é formada removendo a linha e a coluna do elemento especificado, multiplicado por (-1) elevado à soma dos índices de linha e coluna.\n",
        "\n",
        "**Função Calc_Determinante:** Esta função calcula o determinante de uma matriz. Se a matriz é 1x1, o determinante é simplesmente o único elemento. Caso contrário, a função calcula o determinante através da expansão dos cofatores. Multiplica cada elemento da primeira linha pelo cofator correspondente e soma esses valores para obter o determinante.\n",
        "\n",
        "**Função Calc_Transposta:** Esta função calcula a matriz adjunta de uma matriz, que é a transposta da matriz de cofatores. Para cada elemento da matriz, calcula o cofator correspondente e armazena o valor transposto na matriz adjunta.\n",
        "\n",
        "**Função Calc_Ibersa:** Esta função calcula a inversa de uma matriz. Primeiro, verifica se a matriz é singular (ou seja, se seu determinante é zero), caso em que a matriz não tem inversa. Em seguida, calcula a matriz adjunta e divide cada elemento pela determinante para obter a matriz inversa."
      ]
    },
    {
      "cell_type": "markdown",
      "metadata": {
        "id": "Y1pe6yHKusDl"
      },
      "source": [
        "## **Erros que podem ocorrer**"
      ]
    },
    {
      "cell_type": "markdown",
      "metadata": {
        "id": "mGsG7JTvuw4X"
      },
      "source": [
        "**Matriz não quadrada:** Apenas matrizes quadradas (ou seja, matrizes com o mesmo número de linhas e colunas) têm uma inversa. Se você tentar calcular a inversa de uma matriz que não seja quadrada, receberá um erro.\n",
        "\n",
        "**Matriz singular:** Uma matriz é chamada de \"singular\" se seu determinante for zero. Matrizes singulares não têm uma inversa. Se você tentar calcular a inversa de uma matriz singular, o denominador na fórmula da inversa será zero, o que levará a uma divisão por zero.\n"
      ]
    },
    {
      "cell_type": "markdown",
      "source": [
        "## **Com as bibliotecas do Python**"
      ],
      "metadata": {
        "id": "J7go2IqxjXYs"
      }
    },
    {
      "cell_type": "code",
      "source": [
        "import numpy as np\n",
        "\n",
        "# Defina sua matriz de ordem 3\n",
        "matriz = np.array([[1, 1, 0],\n",
        "                   [0, 1, 1],\n",
        "                   [1, 0, 2]])\n",
        "\n",
        "# Calcule a determinante da matriz original\n",
        "determinante = np.linalg.det(matriz)\n",
        "\n",
        "# Calcule a matriz dos cofatores\n",
        "cofatores = np.linalg.inv(matriz).T * determinante\n",
        "\n",
        "# Calcule a matriz inversa\n",
        "matriz_inversa = np.linalg.inv(matriz)\n",
        "\n",
        "# Calcule a matriz transposta\n",
        "matriz_transposta = cofatores.T\n",
        "\n",
        "# Imprima a matriz original, a determinante, a matriz dos cofatores, a matriz inversa e a matriz transposta\n",
        "print(\"Matriz Original:\")\n",
        "print(matriz)\n",
        "\n",
        "print(f\"\\nDeterminante da Matriz Original: {determinante:.1f}\")\n",
        "\n",
        "print(\"\\nMatriz dos Cofatores:\")\n",
        "print(cofatores)\n",
        "\n",
        "print(\"\\nMatriz Transposta(Adjunta):\")\n",
        "print(matriz_transposta)\n",
        "\n",
        "print(\"\\nMatriz Inversa:\")\n",
        "print(matriz_inversa)"
      ],
      "metadata": {
        "colab": {
          "base_uri": "https://localhost:8080/"
        },
        "id": "LJx2yMWBjUdj",
        "outputId": "af3a6199-9283-4fb8-a62d-0d7ef9ff7754"
      },
      "execution_count": null,
      "outputs": [
        {
          "output_type": "stream",
          "name": "stdout",
          "text": [
            "Matriz Original:\n",
            "[[1 1 0]\n",
            " [0 1 1]\n",
            " [1 0 2]]\n",
            "\n",
            "Determinante da Matriz Original: 3.0\n",
            "\n",
            "Matriz dos Cofatores:\n",
            "[[ 2.  1. -1.]\n",
            " [-2.  2.  1.]\n",
            " [ 1. -1.  1.]]\n",
            "\n",
            "Matriz Transposta(Adjunta):\n",
            "[[ 2. -2.  1.]\n",
            " [ 1.  2. -1.]\n",
            " [-1.  1.  1.]]\n",
            "\n",
            "Matriz Inversa:\n",
            "[[ 0.66666667 -0.66666667  0.33333333]\n",
            " [ 0.33333333  0.66666667 -0.33333333]\n",
            " [-0.33333333  0.33333333  0.33333333]]\n"
          ]
        }
      ]
    },
    {
      "cell_type": "markdown",
      "source": [
        "**SciPy:**\n",
        "A biblioteca SciPy é construída sobre o NumPy e fornece recursos adicionais, incluindo módulos específicos para álgebra linear (scipy.linalg). Ela oferece funcionalidades avançadas, como decomposições, sistemas lineares, entre outros.\n",
        "\n",
        "**SymPy **\n",
        "É uma biblioteca para matemática simbólica em Python. Embora não seja tão otimizada para cálculos numéricos quanto o NumPy, ela pode ser útil para manipulações simbólicas e cálculos algébricos.\n",
        "\n",
        "**Matplotlib:**\n",
        "Enquanto o Matplotlib é conhecido principalmente por criar gráficos, ele também possui alguns módulos para trabalhar com matrizes, como o matplotlib.cbook.\n",
        "\n",
        "**TensorFlow e PyTorch:**\n",
        "Essas são bibliotecas de aprendizado de máquina, mas também incluem funcionalidades para trabalhar com tensores (matrizes multidimensionais) de forma eficiente. São muito utilizadas em redes neurais e aprendizado profundo."
      ],
      "metadata": {
        "id": "xg87lYktp1iT"
      }
    },
    {
      "cell_type": "code",
      "source": [],
      "metadata": {
        "id": "lgDlmwGg_004"
      },
      "execution_count": null,
      "outputs": []
    }
  ],
  "metadata": {
    "colab": {
      "provenance": [],
      "include_colab_link": true
    },
    "kernelspec": {
      "display_name": "Python 3",
      "name": "python3"
    },
    "language_info": {
      "name": "python"
    }
  },
  "nbformat": 4,
  "nbformat_minor": 0
}