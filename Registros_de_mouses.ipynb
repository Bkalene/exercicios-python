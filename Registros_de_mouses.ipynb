{
  "nbformat": 4,
  "nbformat_minor": 0,
  "metadata": {
    "colab": {
      "provenance": [],
      "authorship_tag": "ABX9TyNIj2KT3eBLZHBzMCm7ucXV",
      "include_colab_link": true
    },
    "kernelspec": {
      "name": "python3",
      "display_name": "Python 3"
    },
    "language_info": {
      "name": "python"
    }
  },
  "cells": [
    {
      "cell_type": "markdown",
      "metadata": {
        "id": "view-in-github",
        "colab_type": "text"
      },
      "source": [
        "<a href=\"https://colab.research.google.com/github/Bkalene/exercicios-python/blob/main/Registros_de_mouses.ipynb\" target=\"_parent\"><img src=\"https://colab.research.google.com/assets/colab-badge.svg\" alt=\"Open In Colab\"/></a>"
      ]
    },
    {
      "cell_type": "code",
      "source": [
        "def registrar_mouses():\n",
        "    # Dicionário de tipos de defeito\n",
        "    defeitos = {\n",
        "        1: \"Esfera\",\n",
        "        2: \"Limpeza\",\n",
        "        3: \"Cabo/Conector\",\n",
        "        4: \"Inutilizado\",\n",
        "    }\n",
        "\n",
        "    # Contagem de defeitos\n",
        "    contagem = {d: 0 for d in defeitos}\n",
        "\n",
        "    # Quantidade de mouses\n",
        "    total = 0\n",
        "\n",
        "    while True:\n",
        "        # Número de identificação\n",
        "        id_mouse = input(\"Número de identificação (0 para encerrar): \")\n",
        "        if id_mouse == '0':\n",
        "            break\n",
        "\n",
        "        # Menu de tipos de defeito\n",
        "        print(\"Tipos de defeito:\")\n",
        "        for defeito, descricao in defeitos.items():\n",
        "            print(f\"{defeito} - {descricao}\")\n",
        "\n",
        "        # Tipo de defeito\n",
        "        tipo_defeito = int(input(\"Tipo de defeito: \"))\n",
        "        if tipo_defeito in contagem:\n",
        "            contagem[tipo_defeito] += 1\n",
        "            total += 1\n",
        "        else:\n",
        "            print(\"Tipo de defeito inválido.\")\n",
        "\n",
        "    # Relatório\n",
        "    print(\"\\nRelatório de Defeitos\")\n",
        "    print(f\"Quantidade de mouses: {total}\")\n",
        "    print(\"Situação\".ljust(40), \"Quantidade\", \"Percentual\")\n",
        "    for defeito, descricao in defeitos.items():\n",
        "        quantidade = contagem[defeito]\n",
        "        percentual = quantidade / total * 100 if total > 0 else 0\n",
        "        print(f\"{descricao:<40} {quantidade:<10} {percentual:.2f}%\")\n",
        "\n",
        "# Execução\n",
        "registrar_mouses()"
      ],
      "metadata": {
        "colab": {
          "base_uri": "https://localhost:8080/"
        },
        "id": "UHIQmQj3Dx_K",
        "outputId": "c2ab5d13-f480-4b3c-d539-f5cfc06e52b5"
      },
      "execution_count": null,
      "outputs": [
        {
          "output_type": "stream",
          "name": "stdout",
          "text": [
            "Número de identificação (0 para encerrar): 1\n",
            "Tipos de defeito:\n",
            "1 - Esfera\n",
            "2 - Limpeza\n",
            "3 - Cabo/Conector\n",
            "4 - Inutilizado\n",
            "Tipo de defeito: 4\n",
            "Número de identificação (0 para encerrar): 2\n",
            "Tipos de defeito:\n",
            "1 - Esfera\n",
            "2 - Limpeza\n",
            "3 - Cabo/Conector\n",
            "4 - Inutilizado\n",
            "Tipo de defeito: 3\n",
            "Número de identificação (0 para encerrar): 3\n",
            "Tipos de defeito:\n",
            "1 - Esfera\n",
            "2 - Limpeza\n",
            "3 - Cabo/Conector\n",
            "4 - Inutilizado\n",
            "Tipo de defeito: 2\n",
            "Número de identificação (0 para encerrar): 4\n",
            "Tipos de defeito:\n",
            "1 - Esfera\n",
            "2 - Limpeza\n",
            "3 - Cabo/Conector\n",
            "4 - Inutilizado\n",
            "Tipo de defeito: 1\n",
            "Número de identificação (0 para encerrar): 0\n",
            "\n",
            "Relatório de Defeitos\n",
            "Quantidade de mouses: 4\n",
            "Situação                                 Quantidade Percentual\n",
            "Esfera                                   1          25.00%\n",
            "Limpeza                                  1          25.00%\n",
            "Cabo/Conector                            1          25.00%\n",
            "Inutilizado                              1          25.00%\n"
          ]
        }
      ]
    }
  ]
}