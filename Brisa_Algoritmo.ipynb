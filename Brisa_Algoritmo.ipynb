{
  "nbformat": 4,
  "nbformat_minor": 0,
  "metadata": {
    "colab": {
      "provenance": [],
      "authorship_tag": "ABX9TyMusodq2zrMckQ7iWUwGhae",
      "include_colab_link": true
    },
    "kernelspec": {
      "name": "python3",
      "display_name": "Python 3"
    },
    "language_info": {
      "name": "python"
    }
  },
  "cells": [
    {
      "cell_type": "markdown",
      "metadata": {
        "id": "view-in-github",
        "colab_type": "text"
      },
      "source": [
        "<a href=\"https://colab.research.google.com/github/Bkalene/exercicios-python/blob/main/Brisa_Algoritmo.ipynb\" target=\"_parent\"><img src=\"https://colab.research.google.com/assets/colab-badge.svg\" alt=\"Open In Colab\"/></a>"
      ]
    },
    {
      "cell_type": "markdown",
      "source": [
        "1- Faça um programa que lê um número n digitado pelo usuário (esse número vai ser a quantidade de termos) e imprime os n primeiros números da sequência de Fibonacci."
      ],
      "metadata": {
        "id": "Ch9GsEcKDxFW"
      }
    },
    {
      "cell_type": "code",
      "source": [
        "t = int(input('Digite o número de termos que você quer ver da sequência de Fibonacci: '))\n",
        "\n",
        "x, y = 0, 1\n",
        "\n",
        "while t > 0:\n",
        "    print(y)\n",
        "    x, y = y, x + y\n",
        "    t -= 1"
      ],
      "metadata": {
        "colab": {
          "base_uri": "https://localhost:8080/"
        },
        "id": "rY2vV-OXGSiz",
        "outputId": "ff851bd1-fbb0-453f-fe0f-f1a86ce66bf7"
      },
      "execution_count": null,
      "outputs": [
        {
          "output_type": "stream",
          "name": "stdout",
          "text": [
            "Digite o número de termos que você quer ver da sequência de Fibonacci: 5\n",
            "1\n",
            "1\n",
            "2\n",
            "3\n",
            "5\n"
          ]
        }
      ]
    },
    {
      "cell_type": "markdown",
      "source": [
        "2- Crie um algoritmo que receba um número, conte o número total de dígitos e mostre o resultado.\n",
        "Por exemplo, se o número é 201, então a saída deve ser 3."
      ],
      "metadata": {
        "id": "8aKwEWnNH6W3"
      }
    },
    {
      "cell_type": "code",
      "source": [
        "n = int(input('Digite o número a ser contado'))\n",
        "n1 = str(n)\n",
        "print(len(n1))"
      ],
      "metadata": {
        "colab": {
          "base_uri": "https://localhost:8080/"
        },
        "id": "mr16KhSSLbr_",
        "outputId": "b7e4381a-f6ef-4eff-aeaa-e57f328ff1e0"
      },
      "execution_count": null,
      "outputs": [
        {
          "output_type": "stream",
          "name": "stdout",
          "text": [
            "Digite o número a ser contado123\n",
            "3\n"
          ]
        }
      ]
    },
    {
      "cell_type": "markdown",
      "source": [
        "3- Faça um programa que imprima na tela apenas os números ímpares entre 1 e 50"
      ],
      "metadata": {
        "id": "mR_brmjvMj2a"
      }
    },
    {
      "cell_type": "code",
      "source": [
        "for n in range (1,51):\n",
        "  if n % 2 != 0:\n",
        "    print (n)"
      ],
      "metadata": {
        "colab": {
          "base_uri": "https://localhost:8080/"
        },
        "id": "fP_KUjYiMtf9",
        "outputId": "a88fb7d8-f5d1-4d3f-df1c-d745ed7ccfcc"
      },
      "execution_count": null,
      "outputs": [
        {
          "output_type": "stream",
          "name": "stdout",
          "text": [
            "1\n",
            "3\n",
            "5\n",
            "7\n",
            "9\n",
            "11\n",
            "13\n",
            "15\n",
            "17\n",
            "19\n",
            "21\n",
            "23\n",
            "25\n",
            "27\n",
            "29\n",
            "31\n",
            "33\n",
            "35\n",
            "37\n",
            "39\n",
            "41\n",
            "43\n",
            "45\n",
            "47\n",
            "49\n"
          ]
        }
      ]
    },
    {
      "cell_type": "markdown",
      "source": [
        "4- Faça um programa que peça um número inteiro e determine se ele é ou não um número primo. Um número primo é aquele que é divisível somente por ele mesmo e por 1."
      ],
      "metadata": {
        "id": "3T8MkaV5NjGJ"
      }
    },
    {
      "cell_type": "code",
      "source": [
        "n = int(input('Digite um número inteiro: '))\n",
        "if n > 1:\n",
        "    for i in range(2, n):\n",
        "        if (n % i) == 0:\n",
        "            print(n, 'não é um número primo')\n",
        "            break\n",
        "    else:\n",
        "        print(n, 'é um número primo')\n",
        "else:\n",
        "    print(n, 'não é um número primo')\n"
      ],
      "metadata": {
        "colab": {
          "base_uri": "https://localhost:8080/"
        },
        "id": "VE2Hq9OgN1Zz",
        "outputId": "34627696-2b65-4a61-b6e8-4fc8b50ef3d9"
      },
      "execution_count": null,
      "outputs": [
        {
          "output_type": "stream",
          "name": "stdout",
          "text": [
            "Digite um número inteiro: 3\n",
            "3 é um número primo\n"
          ]
        }
      ]
    }
  ]
}