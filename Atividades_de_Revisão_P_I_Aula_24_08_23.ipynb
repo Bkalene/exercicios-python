{
  "nbformat": 4,
  "nbformat_minor": 0,
  "metadata": {
    "colab": {
      "provenance": [],
      "include_colab_link": true
    },
    "kernelspec": {
      "name": "python3",
      "display_name": "Python 3"
    },
    "language_info": {
      "name": "python"
    }
  },
  "cells": [
    {
      "cell_type": "markdown",
      "metadata": {
        "id": "view-in-github",
        "colab_type": "text"
      },
      "source": [
        "<a href=\"https://colab.research.google.com/github/Bkalene/exercicios-python/blob/main/Atividades_de_Revis%C3%A3o_P_I_Aula_24_08_23.ipynb\" target=\"_parent\"><img src=\"https://colab.research.google.com/assets/colab-badge.svg\" alt=\"Open In Colab\"/></a>"
      ]
    },
    {
      "cell_type": "code",
      "execution_count": null,
      "metadata": {
        "colab": {
          "base_uri": "https://localhost:8080/"
        },
        "id": "kyA88I_jrKLp",
        "outputId": "413f83da-4eb8-47c8-fc11-01f38fbc9a19"
      },
      "outputs": [
        {
          "output_type": "stream",
          "name": "stdout",
          "text": [
            "Tabela de Conversão de Polegadas para Centímetros\n",
            "___________________________\n",
            "| Polegadas | Centímetros |\n",
            "---------------------------\n",
            "|     1     |    2.54     |\n",
            "|     2     |    5.08     |\n",
            "|     3     |    7.62     |\n",
            "|     4     |    10.16    |\n",
            "|     5     |    12.70    |\n",
            "|     6     |    15.24    |\n",
            "|     7     |    17.78    |\n",
            "|     8     |    20.32    |\n",
            "|     9     |    22.86    |\n",
            "|    10     |    25.40    |\n",
            "|    11     |    27.94    |\n",
            "|    12     |    30.48    |\n",
            "|    13     |    33.02    |\n",
            "|    14     |    35.56    |\n",
            "|    15     |    38.10    |\n",
            "|    16     |    40.64    |\n",
            "|    17     |    43.18    |\n",
            "|    18     |    45.72    |\n",
            "|    19     |    48.26    |\n",
            "|    20     |    50.80    |\n"
          ]
        }
      ],
      "source": [
        "# Nome: Tales Cezar Bianchi Fittipaldi - 2 CD\n",
        "# 1- Criar um script que imprima uma tabela de conversão de polegadas para centímetros. Deseja-se que na tabela conste valores desde 1 polegada até 20 polegadas inteiras.\n",
        "\n",
        "def polegadas_para_centimetros(polegadas):\n",
        "    return polegadas * 2.54\n",
        "print('Tabela de Conversão de Polegadas para Centímetros')\n",
        "print('___________________________')\n",
        "print('| Polegadas | Centímetros |')\n",
        "print('---------------------------')\n",
        "for polegadas in range(1, 21):\n",
        "    centimetros = polegadas_para_centimetros(polegadas)\n",
        "    print(f\"| {polegadas:^9} | {centimetros:^11.2f} |\")"
      ]
    },
    {
      "cell_type": "code",
      "source": [
        "# 2- Criar um algoritmo que leia um número que servirá para controlar os números pares que serão impressos a partir de 2.\n",
        "\n",
        "quantidade = int(input('Quantos números pares você deseja imprimir? '))\n",
        "contador = 0\n",
        "print(f'Estes são os primeiros {quantidade} números pares a partir do 2.')\n",
        "for numero in range(2, quantidade * 2 + 1, 2):\n",
        "    print(numero)\n",
        "    contador += 1\n",
        "    if contador == quantidade:\n",
        "        break"
      ],
      "metadata": {
        "colab": {
          "base_uri": "https://localhost:8080/"
        },
        "id": "l0906JTrvlVe",
        "outputId": "d718bb1e-90e7-4398-9a2e-3c3983f06fa9"
      },
      "execution_count": null,
      "outputs": [
        {
          "output_type": "stream",
          "name": "stdout",
          "text": [
            "Quantos números pares você deseja imprimir? 5\n",
            "Estes são os primeiros 5 números pares a partir do 2.\n",
            "2\n",
            "4\n",
            "6\n",
            "8\n",
            "10\n"
          ]
        }
      ]
    },
    {
      "cell_type": "code",
      "source": [
        "# 3- Criar um algoritmo que leia a quantidade de números que se deseja digitar para que possa ser impresso o maior e o menor numero digitados Não suponha que todos os números lidos serão positivos.\n",
        "\n",
        "quantidade = int(input('Quantos números serão analisados? '))\n",
        "if quantidade <= 0:\n",
        "    print('Quantidade inválida. Digite um valor maior que 0.')\n",
        "else:\n",
        "    numeros = []\n",
        "\n",
        "    for i in range(quantidade):\n",
        "        numero = int(input(f'Digite o {i+1}º número: '))\n",
        "        numeros.append(numero)\n",
        "\n",
        "    if numeros:\n",
        "        maior = max(numeros)\n",
        "        menor = min(numeros)\n",
        "        print(' ')\n",
        "        print(f'O maior número foi: {maior}')\n",
        "        print(f'O menor número foi: {menor}')"
      ],
      "metadata": {
        "colab": {
          "base_uri": "https://localhost:8080/"
        },
        "id": "wUkdQ0A-wwLV",
        "outputId": "56784487-323d-462f-e78b-cd59e124383e"
      },
      "execution_count": null,
      "outputs": [
        {
          "output_type": "stream",
          "name": "stdout",
          "text": [
            "Quantos números serão analisados? 5\n",
            "Digite o 1º número: 10\n",
            "Digite o 2º número: 80\n",
            "Digite o 3º número: 26\n",
            "Digite o 4º número: -5\n",
            "Digite o 5º número: 3\n",
            " \n",
            "O maior número foi: 80\n",
            "O menor número foi: -5\n"
          ]
        }
      ]
    },
    {
      "cell_type": "code",
      "source": [
        "# 4- Entrar com nome, nota da PR1 e nota da PR2 de 15 alunos. Imprimir uma listagem, contendo: nome, nota da PR1, nota da PR2 e média arredondada de cada aluno Ao final calcule a media geral da turma.\n",
        "\n",
        "def calcular_media(nota1, nota2):\n",
        "    return (nota1 + nota2) / 2\n",
        "num_alunos = 15\n",
        "soma_medias = 0\n",
        "print('Digite as informações do aluno:')\n",
        "for i in range(num_alunos):\n",
        "    nome = input(f'Nome do aluno(a) {i + 1}: ')\n",
        "    pr1 = float(input('Nota da PR1: '))\n",
        "    pr2 = float(input('Nota da PR2: '))\n",
        "    media = calcular_media(pr1, pr2)\n",
        "    soma_medias += media\n",
        "    print(f'\\nAluno(a): {nome}')\n",
        "    print(f'Nota da PR1: {pr1}')\n",
        "    print(f'Nota da PR2: {pr2}')\n",
        "    print(f'Média: {media:.2f}\\n')\n",
        "media_geral = soma_medias / num_alunos\n",
        "print(f'A média da turma foi de: {media_geral:.2f}')"
      ],
      "metadata": {
        "id": "Ov5hIJ2iz2bu",
        "outputId": "e3a42280-329c-4a2a-e31f-e751c4f2240f",
        "colab": {
          "base_uri": "https://localhost:8080/"
        }
      },
      "execution_count": null,
      "outputs": [
        {
          "output_type": "stream",
          "name": "stdout",
          "text": [
            "Digite as informações do aluno:\n",
            "Nome do aluno(a) 1: Tales\n",
            "Nota da PR1: 10\n",
            "Nota da PR2: 10\n",
            "\n",
            "Aluno(a): Tales\n",
            "Nota da PR1: 10.0\n",
            "Nota da PR2: 10.0\n",
            "Média: 10.00\n",
            "\n",
            "Nome do aluno(a) 2: Brisa\n",
            "Nota da PR1: 9\n",
            "Nota da PR2: 9\n",
            "\n",
            "Aluno(a): Brisa\n",
            "Nota da PR1: 9.0\n",
            "Nota da PR2: 9.0\n",
            "Média: 9.00\n",
            "\n",
            "Nome do aluno(a) 3: Andreza\n",
            "Nota da PR1: 9\n",
            "Nota da PR2: 9\n",
            "\n",
            "Aluno(a): Andreza\n",
            "Nota da PR1: 9.0\n",
            "Nota da PR2: 9.0\n",
            "Média: 9.00\n",
            "\n",
            "Nome do aluno(a) 4: Regiane\n",
            "Nota da PR1: 9\n",
            "Nota da PR2: 9\n",
            "\n",
            "Aluno(a): Regiane\n",
            "Nota da PR1: 9.0\n",
            "Nota da PR2: 9.0\n",
            "Média: 9.00\n",
            "\n",
            "Nome do aluno(a) 5: Nátali\n",
            "Nota da PR1: 9\n",
            "Nota da PR2: 9\n",
            "\n",
            "Aluno(a): Nátali\n",
            "Nota da PR1: 9.0\n",
            "Nota da PR2: 9.0\n",
            "Média: 9.00\n",
            "\n",
            "Nome do aluno(a) 6: Bruna\n",
            "Nota da PR1: 7\n",
            "Nota da PR2: 5\n",
            "\n",
            "Aluno(a): Bruna\n",
            "Nota da PR1: 7.0\n",
            "Nota da PR2: 5.0\n",
            "Média: 6.00\n",
            "\n",
            "Nome do aluno(a) 7: Caio\n",
            "Nota da PR1: 6\n",
            "Nota da PR2: 6\n",
            "\n",
            "Aluno(a): Caio\n",
            "Nota da PR1: 6.0\n",
            "Nota da PR2: 6.0\n",
            "Média: 6.00\n",
            "\n",
            "Nome do aluno(a) 8: Ana Beatriz\n",
            "Nota da PR1: 4\n",
            "Nota da PR2: 9\n",
            "\n",
            "Aluno(a): Ana Beatriz\n",
            "Nota da PR1: 4.0\n",
            "Nota da PR2: 9.0\n",
            "Média: 6.50\n",
            "\n",
            "Nome do aluno(a) 9: Ana\n",
            "Nota da PR1: 10\n",
            "Nota da PR2: 8\n",
            "\n",
            "Aluno(a): Ana\n",
            "Nota da PR1: 10.0\n",
            "Nota da PR2: 8.0\n",
            "Média: 9.00\n",
            "\n",
            "Nome do aluno(a) 10: Cezar\n",
            "Nota da PR1: 8\n",
            "Nota da PR2: 5\n",
            "\n",
            "Aluno(a): Cezar\n",
            "Nota da PR1: 8.0\n",
            "Nota da PR2: 5.0\n",
            "Média: 6.50\n",
            "\n",
            "Nome do aluno(a) 11: Rafael\n",
            "Nota da PR1: 8\n",
            "Nota da PR2: 5\n",
            "\n",
            "Aluno(a): Rafael\n",
            "Nota da PR1: 8.0\n",
            "Nota da PR2: 5.0\n",
            "Média: 6.50\n",
            "\n",
            "Nome do aluno(a) 12: Gabriel\n",
            "Nota da PR1: 1\n",
            "Nota da PR2: 3\n",
            "\n",
            "Aluno(a): Gabriel\n",
            "Nota da PR1: 1.0\n",
            "Nota da PR2: 3.0\n",
            "Média: 2.00\n",
            "\n",
            "Nome do aluno(a) 13: Enzo\n",
            "Nota da PR1: 3\n",
            "Nota da PR2: 8\n",
            "\n",
            "Aluno(a): Enzo\n",
            "Nota da PR1: 3.0\n",
            "Nota da PR2: 8.0\n",
            "Média: 5.50\n",
            "\n",
            "Nome do aluno(a) 14: Judite\n",
            "Nota da PR1: 6\n",
            "Nota da PR2: 7\n",
            "\n",
            "Aluno(a): Judite\n",
            "Nota da PR1: 6.0\n",
            "Nota da PR2: 7.0\n",
            "Média: 6.50\n",
            "\n",
            "Nome do aluno(a) 15: Victoria\n",
            "Nota da PR1: 6\n",
            "Nota da PR2: 9\n",
            "\n",
            "Aluno(a): Victoria\n",
            "Nota da PR1: 6.0\n",
            "Nota da PR2: 9.0\n",
            "Média: 7.50\n",
            "\n",
            "A média da turma foi de: 7.20\n"
          ]
        }
      ]
    }
  ]
}